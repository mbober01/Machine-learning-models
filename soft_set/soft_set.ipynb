{
 "cells": [
  {
   "cell_type": "code",
   "execution_count": 1,
   "id": "a31a6479",
   "metadata": {},
   "outputs": [],
   "source": [
    "import numpy as np\n",
    "import pandas as pd"
   ]
  },
  {
   "cell_type": "code",
   "execution_count": 2,
   "id": "97117ba0",
   "metadata": {},
   "outputs": [
    {
     "data": {
      "text/html": [
       "<div>\n",
       "<style scoped>\n",
       "    .dataframe tbody tr th:only-of-type {\n",
       "        vertical-align: middle;\n",
       "    }\n",
       "\n",
       "    .dataframe tbody tr th {\n",
       "        vertical-align: top;\n",
       "    }\n",
       "\n",
       "    .dataframe thead th {\n",
       "        text-align: right;\n",
       "    }\n",
       "</style>\n",
       "<table border=\"1\" class=\"dataframe\">\n",
       "  <thead>\n",
       "    <tr style=\"text-align: right;\">\n",
       "      <th></th>\n",
       "      <th>warzywo</th>\n",
       "      <th>świeże</th>\n",
       "      <th>mrożone</th>\n",
       "      <th>ostre</th>\n",
       "      <th>słodkie</th>\n",
       "      <th>zielone</th>\n",
       "      <th>czerwone</th>\n",
       "      <th>lokalne</th>\n",
       "      <th>tropikalne</th>\n",
       "      <th>liściaste</th>\n",
       "      <th>bulwowe</th>\n",
       "    </tr>\n",
       "  </thead>\n",
       "  <tbody>\n",
       "    <tr>\n",
       "      <th>0</th>\n",
       "      <td>brokuły</td>\n",
       "      <td>1</td>\n",
       "      <td>0</td>\n",
       "      <td>0</td>\n",
       "      <td>0</td>\n",
       "      <td>1</td>\n",
       "      <td>0</td>\n",
       "      <td>1</td>\n",
       "      <td>0</td>\n",
       "      <td>1</td>\n",
       "      <td>0</td>\n",
       "    </tr>\n",
       "    <tr>\n",
       "      <th>1</th>\n",
       "      <td>marchewka</td>\n",
       "      <td>1</td>\n",
       "      <td>1</td>\n",
       "      <td>0</td>\n",
       "      <td>1</td>\n",
       "      <td>0</td>\n",
       "      <td>0</td>\n",
       "      <td>1</td>\n",
       "      <td>0</td>\n",
       "      <td>1</td>\n",
       "      <td>1</td>\n",
       "    </tr>\n",
       "    <tr>\n",
       "      <th>2</th>\n",
       "      <td>papryka</td>\n",
       "      <td>1</td>\n",
       "      <td>0</td>\n",
       "      <td>1</td>\n",
       "      <td>0</td>\n",
       "      <td>0</td>\n",
       "      <td>1</td>\n",
       "      <td>1</td>\n",
       "      <td>0</td>\n",
       "      <td>0</td>\n",
       "      <td>0</td>\n",
       "    </tr>\n",
       "    <tr>\n",
       "      <th>3</th>\n",
       "      <td>ziemniaki</td>\n",
       "      <td>0</td>\n",
       "      <td>0</td>\n",
       "      <td>0</td>\n",
       "      <td>1</td>\n",
       "      <td>0</td>\n",
       "      <td>0</td>\n",
       "      <td>1</td>\n",
       "      <td>0</td>\n",
       "      <td>0</td>\n",
       "      <td>1</td>\n",
       "    </tr>\n",
       "    <tr>\n",
       "      <th>4</th>\n",
       "      <td>kapusta</td>\n",
       "      <td>1</td>\n",
       "      <td>0</td>\n",
       "      <td>0</td>\n",
       "      <td>0</td>\n",
       "      <td>1</td>\n",
       "      <td>0</td>\n",
       "      <td>1</td>\n",
       "      <td>0</td>\n",
       "      <td>1</td>\n",
       "      <td>0</td>\n",
       "    </tr>\n",
       "    <tr>\n",
       "      <th>5</th>\n",
       "      <td>kalafior</td>\n",
       "      <td>1</td>\n",
       "      <td>0</td>\n",
       "      <td>0</td>\n",
       "      <td>0</td>\n",
       "      <td>1</td>\n",
       "      <td>0</td>\n",
       "      <td>1</td>\n",
       "      <td>0</td>\n",
       "      <td>1</td>\n",
       "      <td>0</td>\n",
       "    </tr>\n",
       "    <tr>\n",
       "      <th>6</th>\n",
       "      <td>ogórek</td>\n",
       "      <td>1</td>\n",
       "      <td>0</td>\n",
       "      <td>0</td>\n",
       "      <td>0</td>\n",
       "      <td>1</td>\n",
       "      <td>0</td>\n",
       "      <td>1</td>\n",
       "      <td>0</td>\n",
       "      <td>1</td>\n",
       "      <td>0</td>\n",
       "    </tr>\n",
       "    <tr>\n",
       "      <th>7</th>\n",
       "      <td>cebula</td>\n",
       "      <td>1</td>\n",
       "      <td>0</td>\n",
       "      <td>0</td>\n",
       "      <td>0</td>\n",
       "      <td>0</td>\n",
       "      <td>0</td>\n",
       "      <td>1</td>\n",
       "      <td>0</td>\n",
       "      <td>0</td>\n",
       "      <td>0</td>\n",
       "    </tr>\n",
       "    <tr>\n",
       "      <th>8</th>\n",
       "      <td>pomidor</td>\n",
       "      <td>1</td>\n",
       "      <td>0</td>\n",
       "      <td>0</td>\n",
       "      <td>1</td>\n",
       "      <td>0</td>\n",
       "      <td>1</td>\n",
       "      <td>1</td>\n",
       "      <td>0</td>\n",
       "      <td>0</td>\n",
       "      <td>0</td>\n",
       "    </tr>\n",
       "  </tbody>\n",
       "</table>\n",
       "</div>"
      ],
      "text/plain": [
       "     warzywo  świeże  mrożone  ostre  słodkie  zielone  czerwone  lokalne  \\\n",
       "0    brokuły       1        0      0        0        1         0        1   \n",
       "1  marchewka       1        1      0        1        0         0        1   \n",
       "2    papryka       1        0      1        0        0         1        1   \n",
       "3  ziemniaki       0        0      0        1        0         0        1   \n",
       "4    kapusta       1        0      0        0        1         0        1   \n",
       "5   kalafior       1        0      0        0        1         0        1   \n",
       "6     ogórek       1        0      0        0        1         0        1   \n",
       "7     cebula       1        0      0        0        0         0        1   \n",
       "8    pomidor       1        0      0        1        0         1        1   \n",
       "\n",
       "   tropikalne  liściaste  bulwowe  \n",
       "0           0          1        0  \n",
       "1           0          1        1  \n",
       "2           0          0        0  \n",
       "3           0          0        1  \n",
       "4           0          1        0  \n",
       "5           0          1        0  \n",
       "6           0          1        0  \n",
       "7           0          0        0  \n",
       "8           0          0        0  "
      ]
     },
     "execution_count": 2,
     "metadata": {},
     "output_type": "execute_result"
    }
   ],
   "source": [
    "df = pd.read_csv('vegetables .csv')\n",
    "df"
   ]
  },
  {
   "cell_type": "code",
   "execution_count": 3,
   "id": "1650fa84",
   "metadata": {},
   "outputs": [],
   "source": [
    "a = {'mrożone':1,'zielone':1,'słodkie':1,'liściaste':1}\n",
    "b = {'świeże':0.2,'ostre':0.5,'czerwone':0.6}\n",
    "c = {'świeże':0.4,'zielone':1,'czerwone':0.1,'słodkie':0.9}"
   ]
  },
  {
   "cell_type": "code",
   "execution_count": 4,
   "id": "cc5e4cc0",
   "metadata": {},
   "outputs": [],
   "source": [
    "def soft_set(set):\n",
    "    df['sum'] = 0\n",
    "    for x,y in set.items():\n",
    "        df['sum'] += df[x] * y\n",
    "    max_item = df['sum'].max()\n",
    "    return df[df['sum'] == max_item]['warzywo']"
   ]
  },
  {
   "cell_type": "markdown",
   "source": [
    "Reccomandations based on given features"
   ],
   "metadata": {
    "collapsed": false
   }
  },
  {
   "cell_type": "code",
   "execution_count": 5,
   "id": "07098f13",
   "metadata": {},
   "outputs": [
    {
     "data": {
      "text/plain": [
       "1    marchewka\n",
       "Name: warzywo, dtype: object"
      ]
     },
     "execution_count": 5,
     "metadata": {},
     "output_type": "execute_result"
    }
   ],
   "source": [
    "soft_set(a)"
   ]
  },
  {
   "cell_type": "code",
   "execution_count": 6,
   "id": "a537ab94",
   "metadata": {},
   "outputs": [
    {
     "data": {
      "text/plain": [
       "2    papryka\n",
       "Name: warzywo, dtype: object"
      ]
     },
     "execution_count": 6,
     "metadata": {},
     "output_type": "execute_result"
    }
   ],
   "source": [
    "soft_set(b)"
   ]
  },
  {
   "cell_type": "code",
   "execution_count": 7,
   "id": "2df3bbd8",
   "metadata": {},
   "outputs": [
    {
     "data": {
      "text/plain": [
       "0     brokuły\n",
       "4     kapusta\n",
       "5    kalafior\n",
       "6      ogórek\n",
       "8     pomidor\n",
       "Name: warzywo, dtype: object"
      ]
     },
     "execution_count": 7,
     "metadata": {},
     "output_type": "execute_result"
    }
   ],
   "source": [
    "soft_set(c)"
   ]
  },
  {
   "cell_type": "code",
   "execution_count": null,
   "id": "d3d71974",
   "metadata": {},
   "outputs": [],
   "source": []
  }
 ],
 "metadata": {
  "kernelspec": {
   "display_name": "Python 3 (ipykernel)",
   "language": "python",
   "name": "python3"
  },
  "language_info": {
   "codemirror_mode": {
    "name": "ipython",
    "version": 3
   },
   "file_extension": ".py",
   "mimetype": "text/x-python",
   "name": "python",
   "nbconvert_exporter": "python",
   "pygments_lexer": "ipython3",
   "version": "3.9.13"
  }
 },
 "nbformat": 4,
 "nbformat_minor": 5
}
