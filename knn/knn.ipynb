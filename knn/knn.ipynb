{
 "cells": [
  {
   "cell_type": "code",
   "execution_count": 11,
   "metadata": {
    "collapsed": true
   },
   "outputs": [],
   "source": [
    "from utils import Utils,np,pd\n",
    "from Knn import Knn"
   ]
  },
  {
   "cell_type": "code",
   "execution_count": 12,
   "outputs": [],
   "source": [
    "df = pd.read_csv('iris.csv')"
   ],
   "metadata": {
    "collapsed": false
   }
  },
  {
   "cell_type": "code",
   "execution_count": 19,
   "outputs": [
    {
     "data": {
      "text/plain": "     sepal.length  sepal.width  petal.length  petal.width     variety\n0        0.583333     0.458333      0.762712     0.708333   Virginica\n1        0.527778     0.333333      0.644068     0.708333   Virginica\n2        0.444444     0.416667      0.542373     0.583333  Versicolor\n3        0.222222     0.750000      0.152542     0.125000      Setosa\n4        0.027778     0.375000      0.067797     0.041667      Setosa\n..            ...          ...           ...          ...         ...\n145      0.722222     0.458333      0.661017     0.583333  Versicolor\n146      0.416667     0.833333      0.033898     0.041667      Setosa\n147      0.250000     0.291667      0.491525     0.541667  Versicolor\n148      0.777778     0.416667      0.830508     0.833333   Virginica\n149      0.444444     0.416667      0.694915     0.708333   Virginica\n\n[150 rows x 5 columns]",
      "text/html": "<div>\n<style scoped>\n    .dataframe tbody tr th:only-of-type {\n        vertical-align: middle;\n    }\n\n    .dataframe tbody tr th {\n        vertical-align: top;\n    }\n\n    .dataframe thead th {\n        text-align: right;\n    }\n</style>\n<table border=\"1\" class=\"dataframe\">\n  <thead>\n    <tr style=\"text-align: right;\">\n      <th></th>\n      <th>sepal.length</th>\n      <th>sepal.width</th>\n      <th>petal.length</th>\n      <th>petal.width</th>\n      <th>variety</th>\n    </tr>\n  </thead>\n  <tbody>\n    <tr>\n      <th>0</th>\n      <td>0.583333</td>\n      <td>0.458333</td>\n      <td>0.762712</td>\n      <td>0.708333</td>\n      <td>Virginica</td>\n    </tr>\n    <tr>\n      <th>1</th>\n      <td>0.527778</td>\n      <td>0.333333</td>\n      <td>0.644068</td>\n      <td>0.708333</td>\n      <td>Virginica</td>\n    </tr>\n    <tr>\n      <th>2</th>\n      <td>0.444444</td>\n      <td>0.416667</td>\n      <td>0.542373</td>\n      <td>0.583333</td>\n      <td>Versicolor</td>\n    </tr>\n    <tr>\n      <th>3</th>\n      <td>0.222222</td>\n      <td>0.750000</td>\n      <td>0.152542</td>\n      <td>0.125000</td>\n      <td>Setosa</td>\n    </tr>\n    <tr>\n      <th>4</th>\n      <td>0.027778</td>\n      <td>0.375000</td>\n      <td>0.067797</td>\n      <td>0.041667</td>\n      <td>Setosa</td>\n    </tr>\n    <tr>\n      <th>...</th>\n      <td>...</td>\n      <td>...</td>\n      <td>...</td>\n      <td>...</td>\n      <td>...</td>\n    </tr>\n    <tr>\n      <th>145</th>\n      <td>0.722222</td>\n      <td>0.458333</td>\n      <td>0.661017</td>\n      <td>0.583333</td>\n      <td>Versicolor</td>\n    </tr>\n    <tr>\n      <th>146</th>\n      <td>0.416667</td>\n      <td>0.833333</td>\n      <td>0.033898</td>\n      <td>0.041667</td>\n      <td>Setosa</td>\n    </tr>\n    <tr>\n      <th>147</th>\n      <td>0.250000</td>\n      <td>0.291667</td>\n      <td>0.491525</td>\n      <td>0.541667</td>\n      <td>Versicolor</td>\n    </tr>\n    <tr>\n      <th>148</th>\n      <td>0.777778</td>\n      <td>0.416667</td>\n      <td>0.830508</td>\n      <td>0.833333</td>\n      <td>Virginica</td>\n    </tr>\n    <tr>\n      <th>149</th>\n      <td>0.444444</td>\n      <td>0.416667</td>\n      <td>0.694915</td>\n      <td>0.708333</td>\n      <td>Virginica</td>\n    </tr>\n  </tbody>\n</table>\n<p>150 rows × 5 columns</p>\n</div>"
     },
     "execution_count": 19,
     "metadata": {},
     "output_type": "execute_result"
    }
   ],
   "source": [
    "df"
   ],
   "metadata": {
    "collapsed": false
   }
  },
  {
   "cell_type": "code",
   "execution_count": 45,
   "outputs": [],
   "source": [
    "df = Utils.normalize(df)\n",
    "df = Utils.shuffle(df)\n",
    "train,test = Utils.split(df,0.7)"
   ],
   "metadata": {
    "collapsed": false
   }
  },
  {
   "cell_type": "code",
   "execution_count": 46,
   "outputs": [],
   "source": [
    "knn_model = Knn()"
   ],
   "metadata": {
    "collapsed": false
   }
  },
  {
   "cell_type": "code",
   "execution_count": 47,
   "outputs": [],
   "source": [
    "knn_model.fit(train)"
   ],
   "metadata": {
    "collapsed": false
   }
  },
  {
   "cell_type": "code",
   "execution_count": 48,
   "outputs": [],
   "source": [
    "pred = knn_model.predict(test)"
   ],
   "metadata": {
    "collapsed": false
   }
  },
  {
   "cell_type": "code",
   "execution_count": 49,
   "outputs": [
    {
     "name": "stdout",
     "output_type": "stream",
     "text": [
      "accuracy of model 91.11111111111111 %\n"
     ]
    }
   ],
   "source": [
    "print(f\"accuracy of model {knn_model.accuracy(test,pred)} %\")"
   ],
   "metadata": {
    "collapsed": false
   }
  },
  {
   "cell_type": "code",
   "execution_count": null,
   "outputs": [],
   "source": [],
   "metadata": {
    "collapsed": false
   }
  }
 ],
 "metadata": {
  "kernelspec": {
   "display_name": "Python 3",
   "language": "python",
   "name": "python3"
  },
  "language_info": {
   "codemirror_mode": {
    "name": "ipython",
    "version": 2
   },
   "file_extension": ".py",
   "mimetype": "text/x-python",
   "name": "python",
   "nbconvert_exporter": "python",
   "pygments_lexer": "ipython2",
   "version": "2.7.6"
  }
 },
 "nbformat": 4,
 "nbformat_minor": 0
}
